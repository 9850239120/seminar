{
 "cells": [
  {
   "cell_type": "markdown",
   "metadata": {},
   "source": [
    "# Regular Expressions\n",
    "\n",
    "Google revolutionized the internet by making it extremely searchable. This kind of power is at your fingertips.\n",
    "Regular expressions are a set of syntatical tools for matching patterns in text. As scientists, we can use this powerful syntax to do many mundane tasks such as finding and sorting files, find and fixing formatting errors, and reformatting data.\n",
    "\n",
    "- Navigate the command line more efficiently.\n",
    "- Quickly find files on the command line based on their content (grep).\n",
    "- Find and replace a complex expression in many files at once (sed).\n",
    "- Quickly do math on plain-text columns of data from the command line (awk).\n",
    "\n",
    "\n"
   ]
  },
  {
   "cell_type": "markdown",
   "metadata": {},
   "source": [
    "### Excercise: Command Line Regex\n",
    "\n",
    "On the command line, there are many tools that rely on regular expressions. \n",
    "\n",
    "Can you think of a part of the command line tutorial that involved matching a pattern? Recall that the IPython notebook uses the exclamation point to access the command line. In the space below, list all files in this directory that end in the extension 'ipynb' on the command line."
   ]
  },
  {
   "cell_type": "code",
   "execution_count": null,
   "metadata": {
    "collapsed": false
   },
   "outputs": [],
   "source": [
    "!ls *.ipynb"
   ]
  },
  {
   "cell_type": "markdown",
   "metadata": {},
   "source": [
    "## Regex Base Rules\n",
    "\n",
    "- Alphanumeric characters match themselves.\n",
    "- A dot (.) matches any character.\n",
    "- Repeating patterns are matched with *, +, and ?.\n",
    "- Character sets ([]) and the or operator (|) can match alternatives.\n",
    "- The position markers ^ and $ match the beginning and end of a line, respectively.\n",
    "- Parentheses can group things and extract information from matches."
   ]
  },
  {
   "cell_type": "markdown",
   "metadata": {},
   "source": [
    "### Exercise: Escaping the Escape Character\n",
    "\n",
    "1. Using the ! magic in the notebook, access the terminal."
   ]
  },
  {
   "cell_type": "code",
   "execution_count": null,
   "metadata": {
    "collapsed": false
   },
   "outputs": [],
   "source": [
    "!ls"
   ]
  },
  {
   "cell_type": "markdown",
   "metadata": {},
   "source": [
    "2. Try to create a file that has a backslash in the filename with a command like touch file\\name."
   ]
  },
  {
   "cell_type": "code",
   "execution_count": null,
   "metadata": {
    "collapsed": true
   },
   "outputs": [],
   "source": [
    "!touch file\\name"
   ]
  },
  {
   "cell_type": "markdown",
   "metadata": {},
   "source": [
    "3. Use ls to examine the file you’ve just created. Did it work? Where is the slash?\n"
   ]
  },
  {
   "cell_type": "code",
   "execution_count": null,
   "metadata": {
    "collapsed": false
   },
   "outputs": [],
   "source": [
    "ls *name"
   ]
  },
  {
   "cell_type": "markdown",
   "metadata": {},
   "source": [
    "4. Use what you’ve just learned to escape the escape character. Can you successfully make a file called file\\name?"
   ]
  },
  {
   "cell_type": "code",
   "execution_count": null,
   "metadata": {
    "collapsed": false
   },
   "outputs": [],
   "source": [
    "!touch file\\\\name\n",
    "!ls *name"
   ]
  },
  {
   "cell_type": "markdown",
   "metadata": {},
   "source": [
    "### Exercise: Reverse-Engineer a Regex\n",
    "\n",
    "The following string will find either .dat or .DAT extended files:\n",
    "\n",
    "```bash\n",
    "~ $ find . -regextype posix-extended -regex \".*\\(\\.dat\\|\\.DAT\\)\"\n",
    "```\n",
    "\n",
    "1. Can you tell why?\n",
    "2. What are the slashes there for?\n",
    "3. What about the extra specification of -regextype posix-extended?\n",
    "4. Can you find out what that means from the man page for find?\n",
    "\n",
    "Discuss these questions with a neighbor and note the answer below:"
   ]
  },
  {
   "cell_type": "markdown",
   "metadata": {},
   "source": []
  },
  {
   "cell_type": "markdown",
   "metadata": {},
   "source": [
    "### Exercise: Redirect sed Output to a File\n",
    "\n",
    "1. Execute a sed command on a file in your filesystem (try something\n",
    "simple like \"s/the/THE/g\").\n",
    "2. Note that the altered file text has appeared on the command line.\n",
    "3. Using your knowledge of redirection (from Chapter 1), reexecute\n",
    "the command, this time sending the output to a temporary"
   ]
  },
  {
   "cell_type": "code",
   "execution_count": null,
   "metadata": {
    "collapsed": false
   },
   "outputs": [],
   "source": [
    "# First, import the regular expression module.\n",
    "import re"
   ]
  },
  {
   "cell_type": "code",
   "execution_count": null,
   "metadata": {
    "collapsed": false
   },
   "outputs": [],
   "source": [
    "# The string matches the pattern, so a match is returned.\n",
    "re.match(\"20[01][0-9].*[0-9][0-9].*[0-9][0-9]\", '2015-12-16')"
   ]
  },
  {
   "cell_type": "code",
   "execution_count": null,
   "metadata": {
    "collapsed": false
   },
   "outputs": [],
   "source": [
    "# Assign the match to a variable name for later use\n",
    "m = re.match(\"20[01][0-9].*[0-9][0-9].*[0-9][0-9]\", '2015-12-16')"
   ]
  },
  {
   "cell_type": "code",
   "execution_count": null,
   "metadata": {
    "collapsed": false
   },
   "outputs": [],
   "source": [
    "# Find the index in the string of the start of the match.\n",
    "m.pos"
   ]
  },
  {
   "cell_type": "code",
   "execution_count": null,
   "metadata": {
    "collapsed": false
   },
   "outputs": [],
   "source": [
    "# Report all captured groups. This regular expression pattern had no capturing\n",
    "# parentheses, so no substrings are reported.\n",
    "m.groups()"
   ]
  },
  {
   "cell_type": "code",
   "execution_count": null,
   "metadata": {
    "collapsed": false
   },
   "outputs": [],
   "source": [
    "# Try to match the date pattern against something that is not a date.\n",
    "m = re.match(\"20[01][0-9].*[0-9][0-9].*[0-9][0-9]\", 'not-a-date')"
   ]
  },
  {
   "cell_type": "code",
   "execution_count": null,
   "metadata": {
    "collapsed": false
   },
   "outputs": [],
   "source": [
    "# Note how None is returned when the match fails.\n",
    "m is None"
   ]
  },
  {
   "cell_type": "markdown",
   "metadata": {},
   "source": [
    "### The compile() method\n",
    "\n",
    "To speed up matching multiple strings against a common pattern, it is always a good\n",
    "idea to compile() the pattern. Compiling takes much longer than matching. However,\n",
    "once you have a compiled pattern, all of the same functions are available as methods\n",
    "of the pattern. Since the pattern is already known, you don’t need to pass it in when\n",
    "you call match() or search() or the other methods. Let’s compile a version of the date\n",
    "regular expression that has capturing parentheses around the actual date values:"
   ]
  },
  {
   "cell_type": "code",
   "execution_count": null,
   "metadata": {
    "collapsed": false
   },
   "outputs": [],
   "source": [
    "# Compile the regular expression and store it as the re_date variable.\n",
    "re_date = re.compile(\"(20[01][0-9]).*([0-9][0-9]).*([0-9][0-9])\")"
   ]
  },
  {
   "cell_type": "code",
   "execution_count": null,
   "metadata": {
    "collapsed": false
   },
   "outputs": [],
   "source": [
    "# Use this variable to match against a string.\n",
    "re_date.match('2014-28-01')"
   ]
  },
  {
   "cell_type": "code",
   "execution_count": null,
   "metadata": {
    "collapsed": false
   },
   "outputs": [],
   "source": [
    "# Assign the match to a variable m for later use.\n",
    "m = re_date.match('2014-28-01')"
   ]
  },
  {
   "cell_type": "code",
   "execution_count": null,
   "metadata": {
    "collapsed": false
   },
   "outputs": [],
   "source": [
    "# Since the regular expression uses capturing parentheses, you can obtain the values\n",
    "# within them using the groups() method. A tuple that has the same length as\n",
    "# the number of capturing parentheses is returned.\n",
    "m.groups()"
   ]
  },
  {
   "cell_type": "markdown",
   "metadata": {
    "collapsed": true
   },
   "source": [
    "## Regular Expressions Wrap-Up\n",
    "\n",
    "At this point, your regular expressions skills should include:\n",
    "- How to speed up command-line use with metacharacters\n",
    "- How to find files based on patterns in their names (find)\n",
    "- How to find lines in files based on patterns in their content (grep)\n",
    "- How to replace text patterns in files (sed)\n",
    "- How to manipulate columns of data based on patterns (awk)"
   ]
  },
  {
   "cell_type": "code",
   "execution_count": null,
   "metadata": {
    "collapsed": true
   },
   "outputs": [],
   "source": []
  }
 ],
 "metadata": {
  "kernelspec": {
   "display_name": "Python 3",
   "language": "python",
   "name": "python3"
  },
  "language_info": {
   "codemirror_mode": {
    "name": "ipython",
    "version": 3
   },
   "file_extension": ".py",
   "mimetype": "text/x-python",
   "name": "python",
   "nbconvert_exporter": "python",
   "pygments_lexer": "ipython3",
   "version": "3.4.3"
  }
 },
 "nbformat": 4,
 "nbformat_minor": 0
}
