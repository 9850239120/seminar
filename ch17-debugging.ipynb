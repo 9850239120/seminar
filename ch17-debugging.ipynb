{
 "cells": [
  {
   "cell_type": "markdown",
   "metadata": {},
   "source": [
    "# Debugging\n",
    "\n",
    "> The scientific method’s central motivation is the ubiquity of error—the awareness that\n",
    "> mistakes and self-delusion can creep in absolutely anywhere and that the scientist’s\n",
    "> effort is primarily expended in recognizing and rooting out error.\n",
    ">\n",
    "> —Donoho 2009\n",
    "\n",
    "\n",
    "This chapter will prepare\n",
    "you to recognize, diagnose, and fix bugs using various tools and methods for\n",
    "“debugging” your code. It will do so by introducing:\n",
    "\n",
    "- When, how, and by whom bugs are encountered\n",
    "- Methods of diagnosing bugs\n",
    "- Interactive debugging, for diagnosing bugs quickly and systematically\n",
    "- Profiling tools to quickly identify memory management issues\n",
    "- Linting tools to catch style inconsistencies and typos\n"
   ]
  },
  {
   "cell_type": "markdown",
   "metadata": {},
   "source": [
    "## Encountering a Bug\n",
    "\n",
    "A bug may take the form of incorrect syntax, imperfect logic, an infinite loop, poor\n",
    "memory management, failure to initialize a variable, user error, or myriad other\n",
    "human mistakes. It may materialize as:\n",
    "    \n",
    "- An unexpected error while compiling the code\n",
    "- An unexpected error message while running the code\n",
    "- An unhandled exception from a linked library\n",
    "- An incorrect result\n",
    "- An indefinite pause or hang-up\n",
    "- A full computer crash\n",
    "- A segmentation fault\n",
    "- Silent failure\n",
    "\n",
    "The longer a bug exists undetected in a piece of trusted software, the more\n",
    "dire the situation:\n",
    "1. If a bug is found in testing, it can be fixed before the software is ever used.\n",
    "2. If a bug is found before there are users, it can be fixed before it affects anyone\n",
    "running the code.\n",
    "3. If a bug is found when the code is run, it can be fixed before analysis is done on\n",
    "the results.\n",
    "4. If a bug is found when the results of the code are analyzed, it can be fixed before\n",
    "the results are published in a journal article.\n",
    "5. If a bug is found after the results are published, the paper has to be retracted."
   ]
  },
  {
   "cell_type": "markdown",
   "metadata": {},
   "source": [
    "## Print Statements\n",
    "\n",
    "Print statements are every developer’s first debugger. Because of this, we’ll start here\n",
    "—but know that they are not the best practice for effective computing and that we\n",
    "will be covering better methods later in the chapter. Printing is typically a check that\n",
    "asks one or both of these questions:\n",
    "    \n",
    "- Is the bug happening before a certain line?\n",
    "- What is the status of some variable at that point?\n",
    "\n",
    "In the following example, something about the code is causing it to “hang.” That is, it\n",
    "simply seems to run forever, as if stalled:"
   ]
  },
  {
   "cell_type": "code",
   "execution_count": null,
   "metadata": {
    "collapsed": false
   },
   "outputs": [],
   "source": [
    "def mean(nums):\n",
    "    bot = len(nums)\n",
    "    it = 0\n",
    "    top = 0\n",
    "    while it < len(nums):\n",
    "        top += nums[it]\n",
    "    return float(top) / float(bot)\n",
    "\n",
    "a_list = [1, 2, 3, 4, 5, 6, 10, \"one hundred\"]\n",
    "mean(a_list)"
   ]
  },
  {
   "cell_type": "markdown",
   "metadata": {},
   "source": [
    "### Exercise: Print Statement Debugging\n",
    "\n",
    "In the code below, use print statements to:\n",
    "    \n",
    "1) Determine whether the code is still running at line 5. \n",
    "\n",
    "2) Determine the value of `top` during the while loop.\n",
    "\n",
    "3) Determine the value of `it` during the while loop."
   ]
  },
  {
   "cell_type": "code",
   "execution_count": null,
   "metadata": {
    "collapsed": false
   },
   "outputs": [],
   "source": [
    "def mean(nums):\n",
    "    bot = len(nums)\n",
    "    it = 0\n",
    "    top = 0\n",
    "    print(\"Still Running at line 5\")\n",
    "    while it < len(nums):\n",
    "        top += nums[it]\n",
    "        print(top)\n",
    "        print(it)\n",
    "    return float(top) / float(bot)\n",
    "\n",
    "a_list = [1, 2, 3, 4, 5, 6, 10, \"one hundred\"]\n"
   ]
  },
  {
   "cell_type": "markdown",
   "metadata": {},
   "source": [
    "One way to fix this loop is to increase the value of `it` incrementally \n",
    "during the loop. Another way to simplify the code is below. \n",
    "However, it still throws an error. We'll use a bigger hammer for this later."
   ]
  },
  {
   "cell_type": "code",
   "execution_count": null,
   "metadata": {
    "collapsed": false
   },
   "outputs": [],
   "source": [
    "def mean(nums):\n",
    "    top = sum(nums)\n",
    "    bot = len(nums)\n",
    "    return float(top) / float(bot)\n",
    "\n",
    "a_list = [1, 2, 3, 4, 5, 6, 10, \"one hundred\"]\n",
    "mean(a_list)"
   ]
  },
  {
   "cell_type": "markdown",
   "metadata": {},
   "source": [
    "## Interactive Debugging\n",
    "\n",
    "Rather than littering one’s code base with print statements, interactive debuggers\n",
    "allow the user to pause during execution and jump into the code at a certain line of\n",
    "execution. Interactive debuggers, as their name suggests, allow the developer to query\n",
    "the state of the code in an interactive way. They allow the developer to move forward\n",
    "through the code execution to determine the source of the error.\n",
    "Interactive debugging tools generally enable the user to:\n",
    "    \n",
    "- Query the values of variables\n",
    "- Alter the values of variables\n",
    "- Call functions\n",
    "- Do minor calculations\n",
    "- Step line by line through the call stack\n",
    "\n",
    "\n",
    "## Debugging in Python (pdb)\n",
    "\n",
    "We can query the situation with the mean function using pdb."
   ]
  },
  {
   "cell_type": "markdown",
   "metadata": {},
   "source": [
    "### Exercise: Set a Trace\n",
    "\n",
    "1. Create a file containing the buggy mean code, as below.\n",
    "\n",
    "```python\n",
    "def mean(nums):\n",
    "    top = sum(nums)\n",
    "    bot = len(nums)\n",
    "    return float(top) / float(bot)\n",
    "\n",
    "if __name__ == \"__main__\":\n",
    "    a_list = [1, 2, 3, 4, 5, 6, 10, \"one hundred\"]\n",
    "    mean(a_list)\n",
    "```\n",
    "\n",
    "2. Import pdb in that file.\n",
    "3. Decide where you would like to set a trace and add a line there\n",
    "   that reads pdb.set_trace().\n",
    "4. Save the file. If you try running it, what happens?"
   ]
  },
  {
   "cell_type": "code",
   "execution_count": null,
   "metadata": {
    "collapsed": false
   },
   "outputs": [],
   "source": [
    "!python mean.py"
   ]
  },
  {
   "cell_type": "markdown",
   "metadata": {},
   "source": [
    "## Stepping through the code\n",
    "The first time using a tool, you should find out how to get help. In pdb, typing help\n",
    "provides a table of available commands. Can you guess what some of them do?"
   ]
  },
  {
   "cell_type": "code",
   "execution_count": null,
   "metadata": {
    "collapsed": false
   },
   "outputs": [],
   "source": [
    "help(pdb)"
   ]
  },
  {
   "cell_type": "markdown",
   "metadata": {},
   "source": [
    "### Exercise: Step Through the Execution\n",
    "\n",
    "1. Run your script from the last exercise.\n",
    "2. Determine the expected effects of stepping through the execution\n",
    "   by one line.\n",
    "3. Type s. What just happened?"
   ]
  },
  {
   "cell_type": "code",
   "execution_count": null,
   "metadata": {
    "collapsed": true
   },
   "outputs": [],
   "source": [
    "!python mean.py"
   ]
  },
  {
   "cell_type": "markdown",
   "metadata": {},
   "source": [
    "## Continuing the Execution\n",
    "Rather than stepping through the rest of the code one line at a time, we can continue\n",
    "the execution through to the end with the continue command. The shorthand for\n",
    "this command is c. "
   ]
  },
  {
   "cell_type": "markdown",
   "metadata": {},
   "source": [
    "### Exercise: Continue the Execution to Success\n",
    "\n",
    "1. Run the script from the previous exercise.\n",
    "2. Step forward one line.\n",
    "3. Change one hundred to 100 in a_list.\n",
    "4. Continue execution with c. What happened? Was the mean of\n",
    "the list printed correctly? Why?"
   ]
  },
  {
   "cell_type": "code",
   "execution_count": null,
   "metadata": {
    "collapsed": true
   },
   "outputs": [],
   "source": [
    "!python mean.py"
   ]
  },
  {
   "cell_type": "markdown",
   "metadata": {},
   "source": [
    "What you've done was obvious in this case, but isn't always so easy."
   ]
  },
  {
   "cell_type": "code",
   "execution_count": null,
   "metadata": {
    "collapsed": false
   },
   "outputs": [],
   "source": [
    "def mean(nums):\n",
    "    top = sum(nums)\n",
    "    bot = len(nums)\n",
    "    return float(top) / float(bot)\n",
    "\n",
    "a_list = [1, 2, 3, 4, 5, 6, 10, 100]\n",
    "result = mean(a_list)\n",
    "print(result)"
   ]
  },
  {
   "cell_type": "markdown",
   "metadata": {},
   "source": [
    "## Breakpoints\n",
    "\n",
    "In pdb, we can set a breakpoint using the break or shorthand b syntax. We set it at a\n",
    "certain line in the code by using the line number of that place in the code or the name\n",
    "of the function to flag:\n",
    "\n",
    "```\n",
    "b(reak) ([file:]lineno | function)[, condition]\n",
    "```\n",
    "\n",
    "Try setting a breakpoint. \n"
   ]
  },
  {
   "cell_type": "markdown",
   "metadata": {},
   "source": [
    "## Profiling\n",
    "\n",
    "Tools called profilers are used to sketch a profile of the time spent in each part of the\n",
    "execution stack. Profiling goes hand in hand with the debugging process. When there\n",
    "are suspected memory errors, profiling is the same as debugging. When there are\n",
    "simply memory inefficiencies, profiling can be used for optimization.\n",
    "\n",
    "In Python, cProfile is a common way to profile a piece of code. For our\n",
    "fixed_mean.py file, in which the bugs have been fixed, cProfile can be executed on the\n",
    "command line, as follows:\n",
    "\n",
    "```bash\n",
    "$ python -m cProfile -o output.prof fixed_mean.py\n",
    "```\n",
    "\n",
    "This gives the output file a name. It typically ends in the prof extension.\n",
    "It also provides the name of the Python code file to be examined."
   ]
  },
  {
   "cell_type": "markdown",
   "metadata": {},
   "source": [
    "### Excercise: Profile the mean function\n",
    "\n",
    "1) Move the fixed mean function into its own file, called `fixed_mean.py`.\n",
    "\n",
    "2) Execute the cProfile command above.\n",
    "\n",
    "3) Examine the output file. It's not very readable, so we'll need a way to view it."
   ]
  },
  {
   "cell_type": "code",
   "execution_count": null,
   "metadata": {
    "collapsed": false
   },
   "outputs": [],
   "source": [
    "!python -m cProfile -o output.prof fixed_mean.py"
   ]
  },
  {
   "cell_type": "code",
   "execution_count": null,
   "metadata": {
    "collapsed": true
   },
   "outputs": [],
   "source": [
    "## Viewing the Profile with pstats"
   ]
  },
  {
   "cell_type": "code",
   "execution_count": null,
   "metadata": {
    "collapsed": false
   },
   "outputs": [],
   "source": [
    "import pstats\n",
    "p = pstats.Stats('output.prof') \n",
    "p.print_stats()"
   ]
  },
  {
   "cell_type": "markdown",
   "metadata": {
    "collapsed": false
   },
   "source": [
    "## Linting\n",
    "\n",
    "Linting removes “lint” from source code. It’s a type of cleanup that is neither debugging\n",
    "nor testing nor profiling, but can be helpful at each of these stages of the programming\n",
    "process. Linting catches unnecessary imports, unused variables, potential\n",
    "typos, inconsistent style, and other similar issues.\n",
    "\n",
    "Linting in Python can be achieved with the pyflakes tool. Get it? Errors are more than\n",
    "just lint, they’re flakes!\n",
    "\n",
    "As an example of how to use a linter, recall the elementary.py file from Chapter 6. To\n",
    "lint a Python program, execute the pyflakes command on it:\n",
    "\n",
    "```bash\n",
    "$ pyflakes elementary.py\n",
    "```\n",
    "\n",
    "pyflakes responds with a note indicating that a package has been imported but\n",
    "remains unused throughout the code execution:\n",
    "\n",
    "```\n",
    "elementary.py:2: 'numpy' imported but unused\n",
    "```\n",
    "\n",
    "That said, most linting tools do focus on cosmetic issues. Style-related linting tools\n",
    "such as flake8, pep8, or autopep8 can be used to check for errors, variable name misspelling,\n",
    "and PEP8 compatibility. For more on the PEP8 style standard in Python, see\n",
    "Chapter 19. To use the pep8 tool, simply call it from the command line:\n",
    "\n",
    "```bash\n",
    "$ pep8 elementary.py\n",
    "```\n",
    "\n",
    "It will analyze the Python code that you have provided and will respond with a lineby-\n",
    "line listing of stylistic incompatibilities with the PEP8 standard."
   ]
  },
  {
   "cell_type": "markdown",
   "metadata": {},
   "source": [
    "### Excercise: Lint Your Project Code\n",
    "Your project includes a lot of source code. \n",
    "\n",
    "1) Get used to pyflakes and pep8 on the command line using the elementary.py and other examples files.\n",
    "\n",
    "2) For each python file in your project code, apply pyflakes and clean up the lint.\n",
    "\n",
    "3) For each python file in your project code, apply pep8 and become pep8 compatible."
   ]
  },
  {
   "cell_type": "markdown",
   "metadata": {},
   "source": [
    "## Debugging Wrap-up\n",
    "\n",
    "- Understand bugs\n",
    "- Track down their cause\n",
    "- Prototype solutions\n",
    "- Check for success\n",
    "- Use profilers and linters to optimize once you’ve fixed the bugs. \n"
   ]
  },
  {
   "cell_type": "code",
   "execution_count": null,
   "metadata": {
    "collapsed": true
   },
   "outputs": [],
   "source": []
  }
 ],
 "metadata": {
  "kernelspec": {
   "display_name": "Python 3",
   "language": "python",
   "name": "python3"
  },
  "language_info": {
   "codemirror_mode": {
    "name": "ipython",
    "version": 3
   },
   "file_extension": ".py",
   "mimetype": "text/x-python",
   "name": "python",
   "nbconvert_exporter": "python",
   "pygments_lexer": "ipython3",
   "version": "3.4.3"
  }
 },
 "nbformat": 4,
 "nbformat_minor": 0
}
