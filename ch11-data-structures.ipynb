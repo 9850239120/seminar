{
 "cells": [
  {
   "cell_type": "markdown",
   "metadata": {},
   "source": [
    "# Important Data Structures in Physics\n",
    "In every domain there are algorithms and data structures that seem to pop up over\n",
    "and over again. We have already seen the most important data structure for most \n",
    "scientific computing: arrays. Since these received an entire chapter, we will \n",
    "forgo talking about them here. Instead, we will cover:\n",
    "\n",
    "- Hash tables : Useful whenever you want to create associations between data\n",
    "- Data frames : Similar to structured arrays or tables, but with added \n",
    "  capabilities that make them invaluable for experimental data\n",
    "- B-trees : Useful for managing array chunks and hierarchies\n",
    "- K-d trees : Space-partitioning data structures that are useful when trying to reason about the\n",
    "  closest neighboring points in space\n"
   ]
  },
  {
   "cell_type": "markdown",
   "metadata": {},
   "source": [
    "##Hash Tables\n",
    "Hash tables are everywhere in software development. The most common one that we\n",
    "have used so far is the Python dictionary."
   ]
  },
  {
   "cell_type": "code",
   "execution_count": 1,
   "metadata": {
    "collapsed": false
   },
   "outputs": [
    {
     "data": {
      "text/plain": [
       "True"
      ]
     },
     "execution_count": 1,
     "metadata": {},
     "output_type": "execute_result"
    }
   ],
   "source": [
    "hash('') == hash(0) == hash(0.0) == hash(False) == 0"
   ]
  },
  {
   "cell_type": "markdown",
   "metadata": {},
   "source": [
    "## Data Frames\n",
    "A relative newcomer, the data frame is a must-have data structure for data analysis. It\n",
    "is particularly useful to experimentalists."
   ]
  },
  {
   "cell_type": "code",
   "execution_count": 3,
   "metadata": {
    "collapsed": true
   },
   "outputs": [],
   "source": [
    "import pandas as pd"
   ]
  },
  {
   "cell_type": "markdown",
   "metadata": {},
   "source": [
    "### Series\n",
    "The Series class in pandas is effectively a one-dimensional NumPy array with an\n",
    "optional associated index. \n",
    "\n",
    "A series may be created using array-like mechanisms, and they share the same \n",
    "primitive dtype system that NumPy arrays use. The following example creates \n",
    "a series of 64-bit floats:"
   ]
  },
  {
   "cell_type": "code",
   "execution_count": 6,
   "metadata": {
    "collapsed": false
   },
   "outputs": [
    {
     "data": {
      "text/plain": [
       "0    42\n",
       "1    43\n",
       "2    44\n",
       "dtype: float64"
      ]
     },
     "execution_count": 6,
     "metadata": {},
     "output_type": "execute_result"
    }
   ],
   "source": [
    "pd.Series([42, 43, 44], dtype='f8')"
   ]
  },
  {
   "cell_type": "markdown",
   "metadata": {},
   "source": [
    "The following shows a series s with various particle names used as the index and the\n",
    "values representing the number of the associated particle that a detector has seen:"
   ]
  },
  {
   "cell_type": "code",
   "execution_count": 7,
   "metadata": {
    "collapsed": false
   },
   "outputs": [],
   "source": [
    "s = pd.Series([42, 43, 44], \n",
    "      index=[\"electron\", \n",
    "             \"proton\", \n",
    "             \"neutron\"])"
   ]
  },
  {
   "cell_type": "code",
   "execution_count": 8,
   "metadata": {
    "collapsed": false
   },
   "outputs": [
    {
     "data": {
      "text/plain": [
       "electron    42\n",
       "proton      43\n",
       "neutron     44\n",
       "dtype: int64"
      ]
     },
     "execution_count": 8,
     "metadata": {},
     "output_type": "execute_result"
    }
   ],
   "source": [
    "s"
   ]
  },
  {
   "cell_type": "code",
   "execution_count": 9,
   "metadata": {
    "collapsed": false
   },
   "outputs": [
    {
     "data": {
      "text/plain": [
       "42"
      ]
     },
     "execution_count": 9,
     "metadata": {},
     "output_type": "execute_result"
    }
   ],
   "source": [
    "s['electron']"
   ]
  },
  {
   "cell_type": "code",
   "execution_count": 10,
   "metadata": {
    "collapsed": false
   },
   "outputs": [
    {
     "data": {
      "text/plain": [
       "electron    42\n",
       "proton      43\n",
       "dtype: int64"
      ]
     },
     "execution_count": 10,
     "metadata": {},
     "output_type": "execute_result"
    }
   ],
   "source": [
    "# inclusive bounds\n",
    "s['electron':'proton']"
   ]
  },
  {
   "cell_type": "code",
   "execution_count": 14,
   "metadata": {
    "collapsed": false
   },
   "outputs": [
    {
     "data": {
      "text/plain": [
       "proton     43\n",
       "neutron    44\n",
       "dtype: int64"
      ]
     },
     "execution_count": 14,
     "metadata": {},
     "output_type": "execute_result"
    }
   ],
   "source": [
    "# integer indexing still OK\n",
    "s[1:]"
   ]
  },
  {
   "cell_type": "markdown",
   "metadata": {},
   "source": [
    "Series may also be created from dictionaries."
   ]
  },
  {
   "cell_type": "code",
   "execution_count": 15,
   "metadata": {
    "collapsed": false
   },
   "outputs": [],
   "source": [
    "t = pd.Series({'electron': 6, \n",
    "              'neutron': 28, \n",
    "              'proton': 496, \n",
    "              'neutrino': 8128})"
   ]
  },
  {
   "cell_type": "code",
   "execution_count": 16,
   "metadata": {
    "collapsed": false
   },
   "outputs": [
    {
     "data": {
      "text/plain": [
       "electron       6\n",
       "neutrino    8128\n",
       "neutron       28\n",
       "proton       496\n",
       "dtype: int64"
      ]
     },
     "execution_count": 16,
     "metadata": {},
     "output_type": "execute_result"
    }
   ],
   "source": [
    "t"
   ]
  },
  {
   "cell_type": "markdown",
   "metadata": {},
   "source": [
    "Arithmetic can be peformed on series, on the index. \n",
    "Can you explain why neutrino is NaN in the following case?"
   ]
  },
  {
   "cell_type": "code",
   "execution_count": 19,
   "metadata": {
    "collapsed": false
   },
   "outputs": [
    {
     "data": {
      "text/plain": [
       "electron     48\n",
       "neutrino    NaN\n",
       "neutron      72\n",
       "proton      539\n",
       "dtype: float64"
      ]
     },
     "execution_count": 19,
     "metadata": {},
     "output_type": "execute_result"
    }
   ],
   "source": [
    "s + t"
   ]
  },
  {
   "cell_type": "markdown",
   "metadata": {},
   "source": [
    "### Exercise: Create a DataFrame from a dict\n",
    "\n",
    "We can create a data frame from a dictionary of arrays, lists, or series. The\n",
    "keys of the dictionary become the column names. \n",
    "\n",
    "1) Reusing the definitions of s and t from before, create a data frame called df."
   ]
  },
  {
   "cell_type": "code",
   "execution_count": 20,
   "metadata": {
    "collapsed": false
   },
   "outputs": [],
   "source": [
    "df = pd.DataFrame({'S': s, 'T': t})"
   ]
  },
  {
   "cell_type": "code",
   "execution_count": 21,
   "metadata": {
    "collapsed": false
   },
   "outputs": [
    {
     "data": {
      "text/html": [
       "<div style=\"max-height:1000px;max-width:1500px;overflow:auto;\">\n",
       "<table border=\"1\" class=\"dataframe\">\n",
       "  <thead>\n",
       "    <tr style=\"text-align: right;\">\n",
       "      <th></th>\n",
       "      <th>S</th>\n",
       "      <th>T</th>\n",
       "    </tr>\n",
       "  </thead>\n",
       "  <tbody>\n",
       "    <tr>\n",
       "      <th>electron</th>\n",
       "      <td> 42</td>\n",
       "      <td>    6</td>\n",
       "    </tr>\n",
       "    <tr>\n",
       "      <th>neutrino</th>\n",
       "      <td>NaN</td>\n",
       "      <td> 8128</td>\n",
       "    </tr>\n",
       "    <tr>\n",
       "      <th>neutron</th>\n",
       "      <td> 44</td>\n",
       "      <td>   28</td>\n",
       "    </tr>\n",
       "    <tr>\n",
       "      <th>proton</th>\n",
       "      <td> 43</td>\n",
       "      <td>  496</td>\n",
       "    </tr>\n",
       "  </tbody>\n",
       "</table>\n",
       "</div>"
      ],
      "text/plain": [
       "           S     T\n",
       "electron  42     6\n",
       "neutrino NaN  8128\n",
       "neutron   44    28\n",
       "proton    43   496"
      ]
     },
     "execution_count": 21,
     "metadata": {},
     "output_type": "execute_result"
    }
   ],
   "source": [
    "df"
   ]
  },
  {
   "cell_type": "markdown",
   "metadata": {},
   "source": [
    "2) Slice every other element"
   ]
  },
  {
   "cell_type": "code",
   "execution_count": 27,
   "metadata": {
    "collapsed": false
   },
   "outputs": [
    {
     "data": {
      "text/html": [
       "<div style=\"max-height:1000px;max-width:1500px;overflow:auto;\">\n",
       "<table border=\"1\" class=\"dataframe\">\n",
       "  <thead>\n",
       "    <tr style=\"text-align: right;\">\n",
       "      <th></th>\n",
       "      <th>S</th>\n",
       "      <th>T</th>\n",
       "    </tr>\n",
       "  </thead>\n",
       "  <tbody>\n",
       "    <tr>\n",
       "      <th>electron</th>\n",
       "      <td> 42</td>\n",
       "      <td>  6</td>\n",
       "    </tr>\n",
       "    <tr>\n",
       "      <th>neutron</th>\n",
       "      <td> 44</td>\n",
       "      <td> 28</td>\n",
       "    </tr>\n",
       "  </tbody>\n",
       "</table>\n",
       "</div>"
      ],
      "text/plain": [
       "           S   T\n",
       "electron  42   6\n",
       "neutron   44  28"
      ]
     },
     "execution_count": 27,
     "metadata": {},
     "output_type": "execute_result"
    }
   ],
   "source": [
    "df[::2]"
   ]
  },
  {
   "cell_type": "markdown",
   "metadata": {},
   "source": [
    "3) Add a new index to the data frame and value to S."
   ]
  },
  {
   "cell_type": "code",
   "execution_count": 15,
   "metadata": {
    "collapsed": false
   },
   "outputs": [
    {
     "data": {
      "text/html": [
       "<div style=\"max-height:1000px;max-width:1500px;overflow:auto;\">\n",
       "<table border=\"1\" class=\"dataframe\">\n",
       "  <thead>\n",
       "    <tr style=\"text-align: right;\">\n",
       "      <th></th>\n",
       "      <th>S</th>\n",
       "      <th>T</th>\n",
       "    </tr>\n",
       "  </thead>\n",
       "  <tbody>\n",
       "    <tr>\n",
       "      <th>electron</th>\n",
       "      <td>42</td>\n",
       "      <td>6</td>\n",
       "    </tr>\n",
       "    <tr>\n",
       "      <th>neutrino</th>\n",
       "      <td>NaN</td>\n",
       "      <td>8128</td>\n",
       "    </tr>\n",
       "    <tr>\n",
       "      <th>neutron</th>\n",
       "      <td>44</td>\n",
       "      <td>28</td>\n",
       "    </tr>\n",
       "    <tr>\n",
       "      <th>proton</th>\n",
       "      <td>43</td>\n",
       "      <td>496</td>\n",
       "    </tr>\n",
       "    <tr>\n",
       "      <th>antineutrino</th>\n",
       "      <td>-8128</td>\n",
       "      <td>NaN</td>\n",
       "    </tr>\n",
       "  </tbody>\n",
       "</table>\n",
       "</div>"
      ],
      "text/plain": [
       "                 S     T\n",
       "electron        42     6\n",
       "neutrino       NaN  8128\n",
       "neutron         44    28\n",
       "proton          43   496\n",
       "antineutrino -8128   NaN"
      ]
     },
     "execution_count": 15,
     "metadata": {},
     "output_type": "execute_result"
    }
   ],
   "source": [
    "dg = df.append(pd.DataFrame({'S': [-8128]}, index=['antineutrino']))\n",
    "dg"
   ]
  },
  {
   "cell_type": "markdown",
   "metadata": {},
   "source": [
    "4) Delete the neutron index."
   ]
  },
  {
   "cell_type": "code",
   "execution_count": 29,
   "metadata": {
    "collapsed": false
   },
   "outputs": [
    {
     "data": {
      "text/html": [
       "<div style=\"max-height:1000px;max-width:1500px;overflow:auto;\">\n",
       "<table border=\"1\" class=\"dataframe\">\n",
       "  <thead>\n",
       "    <tr style=\"text-align: right;\">\n",
       "      <th></th>\n",
       "      <th>S</th>\n",
       "      <th>T</th>\n",
       "    </tr>\n",
       "  </thead>\n",
       "  <tbody>\n",
       "    <tr>\n",
       "      <th>electron</th>\n",
       "      <td> 42</td>\n",
       "      <td>    6</td>\n",
       "    </tr>\n",
       "    <tr>\n",
       "      <th>neutrino</th>\n",
       "      <td>NaN</td>\n",
       "      <td> 8128</td>\n",
       "    </tr>\n",
       "    <tr>\n",
       "      <th>proton</th>\n",
       "      <td> 43</td>\n",
       "      <td>  496</td>\n",
       "    </tr>\n",
       "  </tbody>\n",
       "</table>\n",
       "</div>"
      ],
      "text/plain": [
       "           S     T\n",
       "electron  42     6\n",
       "neutrino NaN  8128\n",
       "proton    43   496"
      ]
     },
     "execution_count": 29,
     "metadata": {},
     "output_type": "execute_result"
    }
   ],
   "source": [
    "dh = df.drop('neutron')\n",
    "dh"
   ]
  },
  {
   "cell_type": "markdown",
   "metadata": {},
   "source": [
    "You may also easily transpose the rows and columns via the T attribute, as seen here:"
   ]
  },
  {
   "cell_type": "code",
   "execution_count": 30,
   "metadata": {
    "collapsed": false
   },
   "outputs": [
    {
     "data": {
      "text/html": [
       "<div style=\"max-height:1000px;max-width:1500px;overflow:auto;\">\n",
       "<table border=\"1\" class=\"dataframe\">\n",
       "  <thead>\n",
       "    <tr style=\"text-align: right;\">\n",
       "      <th></th>\n",
       "      <th>electron</th>\n",
       "      <th>neutrino</th>\n",
       "      <th>neutron</th>\n",
       "      <th>proton</th>\n",
       "    </tr>\n",
       "  </thead>\n",
       "  <tbody>\n",
       "    <tr>\n",
       "      <th>S</th>\n",
       "      <td> 42</td>\n",
       "      <td>  NaN</td>\n",
       "      <td> 44</td>\n",
       "      <td>  43</td>\n",
       "    </tr>\n",
       "    <tr>\n",
       "      <th>T</th>\n",
       "      <td>  6</td>\n",
       "      <td> 8128</td>\n",
       "      <td> 28</td>\n",
       "      <td> 496</td>\n",
       "    </tr>\n",
       "  </tbody>\n",
       "</table>\n",
       "</div>"
      ],
      "text/plain": [
       "   electron  neutrino  neutron  proton\n",
       "S        42       NaN       44      43\n",
       "T         6      8128       28     496"
      ]
     },
     "execution_count": 30,
     "metadata": {},
     "output_type": "execute_result"
    }
   ],
   "source": [
    "df.T"
   ]
  },
  {
   "cell_type": "markdown",
   "metadata": {},
   "source": [
    "Boolean logic can be applied to a whole data frame. This creates a 'Mask.'"
   ]
  },
  {
   "cell_type": "code",
   "execution_count": 18,
   "metadata": {
    "collapsed": false
   },
   "outputs": [
    {
     "data": {
      "text/html": [
       "<div style=\"max-height:1000px;max-width:1500px;overflow:auto;\">\n",
       "<table border=\"1\" class=\"dataframe\">\n",
       "  <thead>\n",
       "    <tr style=\"text-align: right;\">\n",
       "      <th></th>\n",
       "      <th>S</th>\n",
       "      <th>T</th>\n",
       "    </tr>\n",
       "  </thead>\n",
       "  <tbody>\n",
       "    <tr>\n",
       "      <th>electron</th>\n",
       "      <td>False</td>\n",
       "      <td>True</td>\n",
       "    </tr>\n",
       "    <tr>\n",
       "      <th>neutrino</th>\n",
       "      <td>False</td>\n",
       "      <td>False</td>\n",
       "    </tr>\n",
       "    <tr>\n",
       "      <th>neutron</th>\n",
       "      <td>False</td>\n",
       "      <td>True</td>\n",
       "    </tr>\n",
       "    <tr>\n",
       "      <th>proton</th>\n",
       "      <td>False</td>\n",
       "      <td>False</td>\n",
       "    </tr>\n",
       "  </tbody>\n",
       "</table>\n",
       "</div>"
      ],
      "text/plain": [
       "              S      T\n",
       "electron  False   True\n",
       "neutrino  False  False\n",
       "neutron   False   True\n",
       "proton    False  False"
      ]
     },
     "execution_count": 18,
     "metadata": {},
     "output_type": "execute_result"
    }
   ],
   "source": [
    "df < 42"
   ]
  },
  {
   "cell_type": "markdown",
   "metadata": {},
   "source": [
    "### Exercise: Using a Mask\n",
    "1) Create a mask called mymask that returns true for even numbers, false for odd.\n",
    "2) Call mask() on the df, providing mymask as an argument. \n",
    "3) What is the result? Why?\n",
    "4) Discuss with your neighbor... How might masks be useful in analysis?"
   ]
  },
  {
   "cell_type": "code",
   "execution_count": 55,
   "metadata": {
    "collapsed": false
   },
   "outputs": [
    {
     "data": {
      "text/html": [
       "<div style=\"max-height:1000px;max-width:1500px;overflow:auto;\">\n",
       "<table border=\"1\" class=\"dataframe\">\n",
       "  <thead>\n",
       "    <tr style=\"text-align: right;\">\n",
       "      <th></th>\n",
       "      <th>S</th>\n",
       "      <th>T</th>\n",
       "    </tr>\n",
       "  </thead>\n",
       "  <tbody>\n",
       "    <tr>\n",
       "      <th>electron</th>\n",
       "      <td>NaN</td>\n",
       "      <td>NaN</td>\n",
       "    </tr>\n",
       "    <tr>\n",
       "      <th>neutrino</th>\n",
       "      <td>NaN</td>\n",
       "      <td>NaN</td>\n",
       "    </tr>\n",
       "    <tr>\n",
       "      <th>neutron</th>\n",
       "      <td>NaN</td>\n",
       "      <td>NaN</td>\n",
       "    </tr>\n",
       "    <tr>\n",
       "      <th>proton</th>\n",
       "      <td> 43</td>\n",
       "      <td>NaN</td>\n",
       "    </tr>\n",
       "  </tbody>\n",
       "</table>\n",
       "</div>"
      ],
      "text/plain": [
       "           S   T\n",
       "electron NaN NaN\n",
       "neutrino NaN NaN\n",
       "neutron  NaN NaN\n",
       "proton    43 NaN"
      ]
     },
     "execution_count": 55,
     "metadata": {},
     "output_type": "execute_result"
    }
   ],
   "source": [
    "mymask = df % 2 == 0\n",
    "mymask\n",
    "df.mask(mymask)"
   ]
  },
  {
   "cell_type": "code",
   "execution_count": 56,
   "metadata": {
    "collapsed": false
   },
   "outputs": [
    {
     "data": {
      "text/plain": [
       "electron       6\n",
       "neutrino    8128\n",
       "neutron       28\n",
       "proton       496\n",
       "Name: T, dtype: int64"
      ]
     },
     "execution_count": 56,
     "metadata": {},
     "output_type": "execute_result"
    }
   ],
   "source": [
    "# accessing a single column \n",
    "# will return a series\n",
    "df['T']"
   ]
  },
  {
   "cell_type": "code",
   "execution_count": 20,
   "metadata": {
    "collapsed": false
   },
   "outputs": [
    {
     "data": {
      "text/html": [
       "<div style=\"max-height:1000px;max-width:1500px;overflow:auto;\">\n",
       "<table border=\"1\" class=\"dataframe\">\n",
       "  <thead>\n",
       "    <tr style=\"text-align: right;\">\n",
       "      <th></th>\n",
       "      <th>S</th>\n",
       "      <th>T</th>\n",
       "      <th>small</th>\n",
       "    </tr>\n",
       "  </thead>\n",
       "  <tbody>\n",
       "    <tr>\n",
       "      <th>electron</th>\n",
       "      <td>42</td>\n",
       "      <td>6</td>\n",
       "      <td>True</td>\n",
       "    </tr>\n",
       "    <tr>\n",
       "      <th>neutrino</th>\n",
       "      <td>NaN</td>\n",
       "      <td>8128</td>\n",
       "      <td>False</td>\n",
       "    </tr>\n",
       "    <tr>\n",
       "      <th>neutron</th>\n",
       "      <td>44</td>\n",
       "      <td>28</td>\n",
       "      <td>True</td>\n",
       "    </tr>\n",
       "    <tr>\n",
       "      <th>proton</th>\n",
       "      <td>43</td>\n",
       "      <td>496</td>\n",
       "      <td>False</td>\n",
       "    </tr>\n",
       "  </tbody>\n",
       "</table>\n",
       "</div>"
      ],
      "text/plain": [
       "           S     T  small\n",
       "electron  42     6   True\n",
       "neutrino NaN  8128  False\n",
       "neutron   44    28   True\n",
       "proton    43   496  False"
      ]
     },
     "execution_count": 20,
     "metadata": {},
     "output_type": "execute_result"
    }
   ],
   "source": [
    "# setting a name to a series\n",
    "# or expression will add a \n",
    "# column to the frame\n",
    "df['small'] = df['T'] < 100\n",
    "df"
   ]
  },
  {
   "cell_type": "code",
   "execution_count": 21,
   "metadata": {
    "collapsed": false
   },
   "outputs": [
    {
     "data": {
      "text/html": [
       "<div style=\"max-height:1000px;max-width:1500px;overflow:auto;\">\n",
       "<table border=\"1\" class=\"dataframe\">\n",
       "  <thead>\n",
       "    <tr style=\"text-align: right;\">\n",
       "      <th></th>\n",
       "      <th>S</th>\n",
       "      <th>T</th>\n",
       "    </tr>\n",
       "  </thead>\n",
       "  <tbody>\n",
       "    <tr>\n",
       "      <th>electron</th>\n",
       "      <td>42</td>\n",
       "      <td>6</td>\n",
       "    </tr>\n",
       "    <tr>\n",
       "      <th>neutrino</th>\n",
       "      <td>NaN</td>\n",
       "      <td>8128</td>\n",
       "    </tr>\n",
       "    <tr>\n",
       "      <th>neutron</th>\n",
       "      <td>44</td>\n",
       "      <td>28</td>\n",
       "    </tr>\n",
       "    <tr>\n",
       "      <th>proton</th>\n",
       "      <td>43</td>\n",
       "      <td>496</td>\n",
       "    </tr>\n",
       "  </tbody>\n",
       "</table>\n",
       "</div>"
      ],
      "text/plain": [
       "           S     T\n",
       "electron  42     6\n",
       "neutrino NaN  8128\n",
       "neutron   44    28\n",
       "proton    43   496"
      ]
     },
     "execution_count": 21,
     "metadata": {},
     "output_type": "execute_result"
    }
   ],
   "source": [
    "# deleting a column will\n",
    "# remove it from the frame\n",
    "del df['small']\n",
    "df"
   ]
  },
  {
   "cell_type": "markdown",
   "metadata": {},
   "source": [
    "## B-Trees\n",
    "Let’s take a quick look at the blist package.\n",
    "This package has a sorteddict type that implements a traditional B-tree data\n",
    "structure. Creating a sorteddict is similar to creating a Python dictionary."
   ]
  },
  {
   "cell_type": "markdown",
   "metadata": {},
   "source": [
    "###Exercise: Create a B-Tree \n",
    "\n",
    "1) import sorteddict from blist. You may need to pip install blist."
   ]
  },
  {
   "cell_type": "code",
   "execution_count": 5,
   "metadata": {
    "collapsed": false
   },
   "outputs": [],
   "source": [
    "from blist import sorteddict"
   ]
  },
  {
   "cell_type": "markdown",
   "metadata": {},
   "source": [
    "2) create a new B-tree with some initial values"
   ]
  },
  {
   "cell_type": "code",
   "execution_count": 6,
   "metadata": {
    "collapsed": false
   },
   "outputs": [
    {
     "data": {
      "text/plain": [
       "sorteddict({'birthday': [1879, 3, 14], 'first': 'Albert', 'last': 'Einstein'})"
      ]
     },
     "execution_count": 6,
     "metadata": {},
     "output_type": "execute_result"
    }
   ],
   "source": [
    "b = sorteddict(first=\"Albert\", \n",
    "               last=\"Einstein\",\n",
    "               birthday=[1879, 3, 14])\n",
    "b"
   ]
  },
  {
   "cell_type": "markdown",
   "metadata": {},
   "source": [
    "3) and add a value after it has been created"
   ]
  },
  {
   "cell_type": "code",
   "execution_count": 7,
   "metadata": {
    "collapsed": false
   },
   "outputs": [
    {
     "data": {
      "text/plain": [
       "sorteddict({'birthday': [1879, 3, 14], 'died': [1955, 4, 18], 'first': 'Albert', 'last': 'Einstein'})"
      ]
     },
     "execution_count": 7,
     "metadata": {},
     "output_type": "execute_result"
    }
   ],
   "source": [
    "b['died'] = [1955, 4, 18]\n",
    "b"
   ]
  },
  {
   "cell_type": "code",
   "execution_count": 8,
   "metadata": {
    "collapsed": false
   },
   "outputs": [
    {
     "data": {
      "text/plain": [
       "['birthday', 'died', 'first', 'last']"
      ]
     },
     "execution_count": 8,
     "metadata": {},
     "output_type": "execute_result"
    }
   ],
   "source": [
    "list(b.keys())"
   ]
  },
  {
   "cell_type": "markdown",
   "metadata": {},
   "source": [
    "## K-D Trees\n",
    "A k-d tree, or k-dimensional tree, is another tree data structure. This one excels at\n",
    "finding the nearest neighbor for points in a k-dimensional space."
   ]
  },
  {
   "cell_type": "code",
   "execution_count": 9,
   "metadata": {
    "collapsed": false
   },
   "outputs": [],
   "source": [
    "class Node(object):\n",
    "    \n",
    "    def __init__(self, point, left=None, right=None):\n",
    "        self.point = point\n",
    "        self.left = left\n",
    "        self.right = right\n",
    "        \n",
    "    def __repr__(self):\n",
    "        isleaf = self.left is None and self.right is None\n",
    "        s = repr(self.point)\n",
    "        if not isleaf:\n",
    "            s = \"[\" + s + \":\"\n",
    "        if self.left is not None:\n",
    "            s += \"\\n  left = \" + \"\\n  \".join(repr(self.left).split('\\n'))\n",
    "        if self.right is not None:\n",
    "            s += \"\\n  right = \" + \"\\n  \".join(repr(self.right).split('\\n'))\n",
    "        if not isleaf:\n",
    "            s += \"\\n  ]\"\n",
    "        return s\n",
    "\n",
    "\n",
    "def kdtree(points, depth=0):\n",
    "    if len(points) == 0:\n",
    "        return None\n",
    "    k = len(points[0])\n",
    "    a = depth % k\n",
    "    points = sorted(points, key=lambda x: x[a])\n",
    "    i = int(len(points) / 2)  # middle index, rounded down\n",
    "    node_left = kdtree(points[:i], depth + 1)\n",
    "    node_right = kdtree(points[i+1:], depth + 1)\n",
    "    node = Node(points[i], node_left, node_right)\n",
    "    return node"
   ]
  },
  {
   "cell_type": "code",
   "execution_count": 10,
   "metadata": {
    "collapsed": false
   },
   "outputs": [
    {
     "name": "stdout",
     "output_type": "stream",
     "text": [
      "[(3, 2):\n",
      "  left = [(1, 2):\n",
      "    left = (2, 1)\n",
      "    right = (1, 5)\n",
      "    ]\n",
      "  right = [(5, 5):\n",
      "    left = (4, 3)\n",
      "    ]\n",
      "  ]\n"
     ]
    }
   ],
   "source": [
    "points = [(1, 2), (3, 2), \n",
    "          (5, 5), (2, 1), \n",
    "          (4, 3), (1, 5)]\n",
    "root = kdtree(points)\n",
    "print(root)"
   ]
  },
  {
   "cell_type": "code",
   "execution_count": 11,
   "metadata": {
    "collapsed": false
   },
   "outputs": [],
   "source": [
    "from scipy.spatial import KDTree\n",
    "tree = KDTree(points)"
   ]
  },
  {
   "cell_type": "code",
   "execution_count": 12,
   "metadata": {
    "collapsed": false
   },
   "outputs": [
    {
     "data": {
      "text/plain": [
       "array([[1, 2],\n",
       "       [3, 2],\n",
       "       [5, 5],\n",
       "       [2, 1],\n",
       "       [4, 3],\n",
       "       [1, 5]])"
      ]
     },
     "execution_count": 12,
     "metadata": {},
     "output_type": "execute_result"
    }
   ],
   "source": [
    "tree.data"
   ]
  },
  {
   "cell_type": "code",
   "execution_count": 13,
   "metadata": {
    "collapsed": false
   },
   "outputs": [],
   "source": [
    "# query() defaults to only the closest point\n",
    "dist, idx = tree.query([(4.5, 1.25)])"
   ]
  },
  {
   "cell_type": "code",
   "execution_count": 14,
   "metadata": {
    "collapsed": false
   },
   "outputs": [
    {
     "data": {
      "text/plain": [
       "array([ 1.67705098])"
      ]
     },
     "execution_count": 14,
     "metadata": {},
     "output_type": "execute_result"
    }
   ],
   "source": [
    "dist"
   ]
  },
  {
   "cell_type": "code",
   "execution_count": 15,
   "metadata": {
    "collapsed": false
   },
   "outputs": [
    {
     "data": {
      "text/plain": [
       "array([1])"
      ]
     },
     "execution_count": 15,
     "metadata": {},
     "output_type": "execute_result"
    }
   ],
   "source": [
    "idx "
   ]
  },
  {
   "cell_type": "code",
   "execution_count": 16,
   "metadata": {
    "collapsed": false
   },
   "outputs": [
    {
     "data": {
      "text/plain": [
       "array([[3, 2]])"
      ]
     },
     "execution_count": 16,
     "metadata": {},
     "output_type": "execute_result"
    }
   ],
   "source": [
    "# fancy index by idx to get the point\n",
    "tree.data[idx]"
   ]
  },
  {
   "cell_type": "markdown",
   "metadata": {},
   "source": [
    "## Data Structures Wrap-up\n",
    "\n",
    "\n",
    "You should now be familiar with the following\n",
    "concepts:\n",
    "- Hash tables require a good hash function, which is provided to you by Python.\n",
    "- Resizing a hash table can be expensive.\n",
    "- Hash collisions will happen.\n",
    "- Series are like NumPy arrays but with more generic indexing capabilities.\n",
    "- Data frames are like tables with series as columns.\n",
    "- Data frames handle missing data through NaN values.\n",
    "- B-trees can be used to organize chunks of an array.\n",
    "- You may rotate B-trees to change their structure without altering their performance.\n",
    "- A binary search tree is a B-tree with only one piece of data per node.\n",
    "- K-d trees are a variant of the binary search tree that are organized by points in kdimensional \n",
    "  space.\n",
    "- K-d trees are exceptionally useful for problems involving geometry."
   ]
  }
 ],
 "metadata": {
  "kernelspec": {
   "display_name": "Python 2",
   "language": "python",
   "name": "python2"
  },
  "language_info": {
   "codemirror_mode": {
    "name": "ipython",
    "version": 2
   },
   "file_extension": ".py",
   "mimetype": "text/x-python",
   "name": "python",
   "nbconvert_exporter": "python",
   "pygments_lexer": "ipython2",
   "version": "2.7.9"
  }
 },
 "nbformat": 4,
 "nbformat_minor": 0
}
