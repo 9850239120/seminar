{
 "cells": [
  {
   "cell_type": "markdown",
   "metadata": {},
   "source": [
    "# Chapter 1: Introduction to the Command Line"
   ]
  },
  {
   "cell_type": "markdown",
   "metadata": {},
   "source": [
    "The command line, or *shell*, is a powerful way to interact with the internals of the computer. From the command line you can do many things you normally do with a computer, such as navigate the filesystem and run programs. In addition to these common tasks, the command line allows you to easily automate repetitive tasks and use software programs for science that can only be installed and run via this interface. "
   ]
  },
  {
   "cell_type": "markdown",
   "metadata": {},
   "source": [
    "# Navigating the Shell"
   ]
  },
  {
   "cell_type": "markdown",
   "metadata": {},
   "source": [
    "You can access the shell by opening a terminal emulator (“terminal” for short) on a Linux or Unix computer. On a Windows computer, the Git Bash program is equivalent.  "
   ]
  },
  {
   "cell_type": "markdown",
   "metadata": {},
   "source": [
    "### Exercise: Open a Terminal"
   ]
  },
  {
   "cell_type": "markdown",
   "metadata": {},
   "source": [
    "1. Search your computer’s programs to find one called Terminal. On a Windows computer, remember to use Git Bash as your bash terminal.\n",
    "2. Open an instance of that program. You’re in the shell and you should see something that looks like:"
   ]
  },
  {
   "cell_type": "markdown",
   "metadata": {},
   "source": [
    "`$`"
   ]
  },
  {
   "cell_type": "markdown",
   "metadata": {},
   "source": [
    "The dollar sign (`$`) is called the *prompt*, and it indicates that the *shell* is ready for your input. When typing commands, either from these lessons or from other sources, do not type the prompt, only the commands that follow it."
   ]
  },
  {
   "cell_type": "markdown",
   "metadata": {},
   "source": [
    "# Paths and `pwd`"
   ]
  },
  {
   "cell_type": "markdown",
   "metadata": {},
   "source": [
    "The first command we will learn about is `pwd`, which stands for print working directory. Typing this command into the command line will tell you where you are in your computer's filesystem."
   ]
  },
  {
   "cell_type": "markdown",
   "metadata": {},
   "source": [
    "~~~\n",
    "$ pwd\n",
    "~~~\n",
    "~~~\n",
    "/Users/tiffanytimbers\n",
    "~~~"
   ]
  },
  {
   "cell_type": "markdown",
   "metadata": {},
   "source": [
    "What the shell returns to us from typing `pwd` is the absolute path to where we are in the computers filesystem. Absolute paths begin at the top of the filesystem directory tree, called the root directory. The `/` syntax is used at the beginning of a path to indicate the root or top-level directory. The following `/`'s are used to separate the names of directories in a path."
   ]
  },
  {
   "cell_type": "markdown",
   "metadata": {},
   "source": [
    "Another path we need to be familar with is the relative path which tells us where something is in relation to where we are, intead of from the root of the filesystem. The relative path for the current directory is `.` and the parent directory (*e.g.,* `Users`) is `..`"
   ]
  },
  {
   "cell_type": "markdown",
   "metadata": {},
   "source": [
    "# Changing Directories (`cd`)"
   ]
  },
  {
   "cell_type": "markdown",
   "metadata": {},
   "source": [
    "*note - to follow along with the code below please download the example filesystem we will be working with from here: https://github.com/physics-codes/seminar/blob/ch01/filespace.zip?raw=true and unzip it and save it to your Computer's Desktop.*"
   ]
  },
  {
   "cell_type": "markdown",
   "metadata": {},
   "source": [
    "We are now going to navigate to the fission directory in Professor Meitner’s home directory. We will use do this using `cd`, which stands for change directory. "
   ]
  },
  {
   "cell_type": "markdown",
   "metadata": {},
   "source": [
    "`$ cd Desktop/filespace/people/l/lisemeitner/fission/`"
   ]
  },
  {
   "cell_type": "markdown",
   "metadata": {},
   "source": [
    "As you can see in this example, executing the cd command with no arguments results in a new prompt. The prompt reflects the new current working directory, `fission`. To double-check that we are where we think we are we can use `pwd`."
   ]
  },
  {
   "cell_type": "markdown",
   "metadata": {},
   "source": [
    "~~~\n",
    "$ pwd\n",
    "~~~\n",
    "~~~\n",
    "/Users/tiffanytimbers/Desktop/filespace/people/l/lisemeitner/fission\n",
    "~~~"
   ]
  },
  {
   "cell_type": "markdown",
   "metadata": {},
   "source": [
    "You can also use `cd` with a relative path (*e.g.,* `cd ..` to navigate up to the parent directory), and we wil demonstrate this and more after we introduce the `ls` command."
   ]
  },
  {
   "cell_type": "markdown",
   "metadata": {},
   "source": [
    "# Listing the Contents (`ls`)"
   ]
  },
  {
   "cell_type": "markdown",
   "metadata": {},
   "source": [
    "To find out what is inside the a directory we can use `ls`, which means list. Typing `ls` on its own will tell you the contents of the current working directory, in our case the `fission` directory."
   ]
  },
  {
   "cell_type": "markdown",
   "metadata": {},
   "source": [
    "~~~\n",
    "$ ls\n",
    "~~~\n",
    "~~~\n",
    "applications\t\theat-generation.txt\tneutron-production.txt\n",
    "~~~"
   ]
  },
  {
   "cell_type": "markdown",
   "metadata": {},
   "source": [
    "We see that the shell returns three things, two of which end in `.txt` and thus look like files, and one item that has no file extension, and thus is likely a directory. But files are not required to have file extensions, and so we cannot be sure. To be sure, we can use the `-F` option with `ls` to ask the shell to cleary specify which items are files and which are directories."
   ]
  },
  {
   "cell_type": "markdown",
   "metadata": {},
   "source": [
    "~~~\n",
    "$ ls -F\n",
    "~~~\n",
    "~~~\n",
    "applications/\t\theat-generation.txt\tneutron-production.txt\n",
    "~~~"
   ]
  },
  {
   "cell_type": "markdown",
   "metadata": {},
   "source": [
    "Now we see that `applications` ends with a `/`, clearly indicating that it is in fact a directory."
   ]
  },
  {
   "cell_type": "markdown",
   "metadata": {},
   "source": [
    "We can also list the contents of directories other than our current directory by providing an argument to the `ls` command. To list the contents of the applications directory without entering it, we can execute:"
   ]
  },
  {
   "cell_type": "markdown",
   "metadata": {},
   "source": [
    "~~~\n",
    "$ ls applications\n",
    "~~~\n",
    "~~~\n",
    "power\n",
    "~~~"
   ]
  },
  {
   "cell_type": "markdown",
   "metadata": {
    "collapsed": true
   },
   "source": [
    "# More Changing Directories (`cd`)"
   ]
  },
  {
   "cell_type": "markdown",
   "metadata": {},
   "source": [
    "Previously we changed directories to the `fission` directory using the `cd` and the absolute path. As mentioned above, we can also change directories using the relative path, for example to navigate into the `applications` directory we can type:"
   ]
  },
  {
   "cell_type": "markdown",
   "metadata": {},
   "source": [
    "~~~\n",
    "$ cd applications\n",
    "$ pwd\n",
    "~~~\n",
    "~~~\n",
    "/Users/tiffanytimbers/Desktop/filespace/people/l/lisemeitner/fission/applications\n",
    "~~~"
   ]
  },
  {
   "cell_type": "markdown",
   "metadata": {},
   "source": [
    "We can also move back to the `fission` directory by using the relative path to move to the parent directory by typing:"
   ]
  },
  {
   "cell_type": "markdown",
   "metadata": {},
   "source": [
    "~~~\n",
    "$ cd ..\n",
    "$ pwd\n",
    "~~~\n",
    "~~~\n",
    "/Users/tiffanytimbers/Desktop/filespace/people/l/lisemeitner/fission\n",
    "~~~"
   ]
  },
  {
   "cell_type": "markdown",
   "metadata": {},
   "source": [
    "The `applications` directory had to be present in the `fission` directory for `cd applications` to work.\n",
    "If a directory does not exist, bash will not be able to change into that location and will report an error message, as seen here. Notice that bash stays in the original directory, as you might expect:"
   ]
  },
  {
   "cell_type": "markdown",
   "metadata": {},
   "source": [
    "~~~\n",
    "$ cd biology\n",
    "~~~\n",
    "\n",
    "~~~\n",
    "-bash: cd: biology: No such file or directory\n",
    "~~~\n",
    "\n",
    "~~~\n",
    "$ pwd\n",
    "~~~\n",
    "\n",
    "~~~\n",
    "/Users/tiffanytimbers/Desktop/filespace/people/l/lisemeitner/fission\n",
    "~~~"
   ]
  },
  {
   "cell_type": "markdown",
   "metadata": {},
   "source": [
    "What happens when you type `cd` alone, without giving an absolute or relative path? When you do this, the cd command assumes you want to go to your home directory, so that’s where it takes you:"
   ]
  },
  {
   "cell_type": "markdown",
   "metadata": {},
   "source": [
    "~~~\n",
    "$ cd\n",
    "$ pwd\n",
    "~~~\n",
    "~~~\n",
    "/Users/tiffanytimbers\n",
    "~~~"
   ]
  },
  {
   "cell_type": "markdown",
   "metadata": {},
   "source": [
    "### Exercise: Open a Terminal\n",
    "\n",
    "1. Open a new Terminal instance.\n",
    "2. Type `cd ..` at the command prompt and press **Enter** to move from your home directory to the directory above it.\n",
    "3. Move back into your home directory using a relative path.\n",
    "4. If you have downloaded Lise’s directory tree from the book’s GitHub repository, can you navigate to that directory using what you know about ls, cd, and pwd?\n"
   ]
  },
  {
   "cell_type": "markdown",
   "metadata": {},
   "source": [
    "# File Inspection (head and tail)"
   ]
  },
  {
   "cell_type": "markdown",
   "metadata": {},
   "source": [
    "When using scientific computing programs, you often need to peak at the input and/or output files (for instance, to check some important input parameter or see if your run completed successfully). To demonstrate this, let's first navigate to the `power` directory, and examine the contents of this directory:"
   ]
  },
  {
   "cell_type": "markdown",
   "metadata": {},
   "source": [
    "~~~\n",
    "$ cd Desktop/filespace/people/l/lisemeitner/fission/applications/power\n",
    "$ ls\n",
    "~~~\n",
    "~~~\n",
    "reactor.txt\n",
    "~~~"
   ]
  },
  {
   "cell_type": "markdown",
   "metadata": {},
   "source": [
    " The command head prints the first 10 lines of the given file:"
   ]
  },
  {
   "cell_type": "markdown",
   "metadata": {},
   "source": [
    "~~~\n",
    "$ head -10 reactor.txt\n",
    "~~~\n",
    "~~~\n",
    "# Fission Power Idea\n",
    "\n",
    "\n",
    "The heat from the fission reaction could be used to heat fluids. In\n",
    "the same way that coal power starts with the production heat which\n",
    "turns water to steam and spins a turbine, so too, nuclear fission\n",
    "might heat fluid that pushes a turbine. If somehow there were a way to\n",
    "have many fissions in one small space, the heat from those fissions\n",
    "could be used to heat quite a lot of water.\n",
    "\n",
    "~~~"
   ]
  },
  {
   "cell_type": "markdown",
   "metadata": {},
   "source": [
    "As you might expect, the tail command prints the last 10:"
   ]
  },
  {
   "cell_type": "markdown",
   "metadata": {},
   "source": [
    "~~~\n",
    "$ tail -10 reactor.txt\n",
    "~~~\n",
    "~~~\n",
    "the same way that coal power starts with the production heat which\n",
    "turns water to steam and spins a turbine, so too, nuclear fission\n",
    "might heat fluid that pushes a turbine. If somehow there were a way to\n",
    "have many fissions in one small space, the heat from those fissions\n",
    "could be used to heat quite a lot of water.\n",
    "\n",
    "Of course, it would take quite a lot of fissions. \n",
    "\n",
    "Perhaps Professors Rutherford, Curie, or Fermi have some ideas on this\n",
    "topic. \n",
    "~~~"
   ]
  },
  {
   "cell_type": "markdown",
   "metadata": {},
   "source": [
    "### Exercise: Open a Terminal\n",
    "\n",
    "1. Open a new Terminal instance.\n",
    "2. Navigate to a plain text file (*.e.g.,* not a Word or Pages document).\n",
    "3. Use `head` and `tail` to print the first and last lines to the terminal.\n"
   ]
  },
  {
   "cell_type": "markdown",
   "metadata": {},
   "source": [
    "# Manipulating Files and Directories"
   ]
  },
  {
   "cell_type": "markdown",
   "metadata": {},
   "source": [
    "Beyond navigating the filesystem, the shell can also be used to do other common file manipulation tasks, such as creating, copying, moving and deleting files."
   ]
  },
  {
   "cell_type": "markdown",
   "metadata": {},
   "source": [
    "# Creating an empty file (`touch`)"
   ]
  },
  {
   "cell_type": "markdown",
   "metadata": {},
   "source": [
    "The `touch` command is used to create an empty text file. The `touch` command, followed by a filename, will create an empty file with that name. Suppose we want to create a file to act as a placeholder for a new idea for a nuclear fission application, like providing heat sources for remote locations such as Siberia. We can create that file with the touch command."
   ]
  },
  {
   "cell_type": "markdown",
   "metadata": {},
   "source": [
    "Let's first navigage to the directory to where we want to create that file, in this case, the `applications` directory."
   ]
  },
  {
   "cell_type": "markdown",
   "metadata": {},
   "source": [
    "~~~\n",
    "$ cd ..\n",
    "$ pwd\n",
    "~~~\n",
    "~~~\n",
    "/Users/tiffanytimbers/Desktop/filespace/people/l/lisemeitner/fission/applications\n",
    "~~~"
   ]
  },
  {
   "cell_type": "markdown",
   "metadata": {},
   "source": [
    "Let's also take a look at what is currently in the directory."
   ]
  },
  {
   "cell_type": "markdown",
   "metadata": {},
   "source": [
    "~~~\n",
    "$ ls\n",
    "~~~\n",
    "~~~\n",
    "power\n",
    "~~~"
   ]
  },
  {
   "cell_type": "markdown",
   "metadata": {},
   "source": [
    "Now we can use the `touch` command to create the file, and then `ls` to confirm that the file was created."
   ]
  },
  {
   "cell_type": "markdown",
   "metadata": {},
   "source": [
    "~~~\n",
    "$ touch remote_heat.txt\n",
    "$ ls\n",
    "~~~\n",
    "\n",
    "~~~\n",
    "power\t\tremote_heat.txt\n",
    "~~~"
   ]
  },
  {
   "cell_type": "markdown",
   "metadata": {},
   "source": [
    "# The simplest text editor (cat and >)"
   ]
  },
  {
   "cell_type": "markdown",
   "metadata": {},
   "source": [
    "Creating empty files can be useful sometimes, but most often computational scientists want to write code by adding text to code source files. This process relies on text editors. At the command line, the simplest way to do this is to use a program called `cat` and the shell syntax `>`, which is called redirection. We will introduce `cat` first and then put these together to create a text file.\n",
    "\n",
    "The cat command is meant to help concatenate files together. Given a filename as its argument, cat will print the full contents of the file to the terminal window. For example, to print all of the text from reactor.txt to the screen, Lise could use `cat` as follows:"
   ]
  },
  {
   "cell_type": "markdown",
   "metadata": {},
   "source": [
    "~~~\n",
    "$ cat power/reactor.txt\n",
    "~~~\n",
    "~~~\n",
    "# Fission Power Idea\n",
    "\n",
    "\n",
    "The heat from the fission reaction could be used to heat fluids. In\n",
    "the same way that coal power starts with the production heat which\n",
    "turns water to steam and spins a turbine, so too, nuclear fission\n",
    "might heat fluid that pushes a turbine. If somehow there were a way to\n",
    "have many fissions in one small space, the heat from those fissions\n",
    "could be used to heat quite a lot of water.\n",
    "\n",
    "Of course, it would take quite a lot of fissions. \n",
    "\n",
    "Perhaps Professors Rutherford, Curie, or Fermi have some ideas on this\n",
    "topic. \n",
    "~~~"
   ]
  },
  {
   "cell_type": "markdown",
   "metadata": {},
   "source": [
    "We can use this feature of cat and combine it with a redirection (>) to send the output of one file into another. *Note - if you specify the name of an existing file, its contents will be overwritten. If the file does not already exist, it will be created.* For example, the following syntax pushes the contents of `reactor.txt` into a new file called `reactor_copy.txt`:"
   ]
  },
  {
   "cell_type": "markdown",
   "metadata": {},
   "source": [
    "~~~\n",
    "$ cat power/reactor.txt > power/reactor_copy.txt\n",
    "$ ls power\n",
    "~~~\n",
    "~~~\n",
    "reactor.txt\t\treactor_copy.txt\n",
    "~~~"
   ]
  },
  {
   "cell_type": "markdown",
   "metadata": {},
   "source": [
    "We can use cat to check that `reactor_copy.txt` is not empty and that its contents is the same as `reactor.txt`."
   ]
  },
  {
   "cell_type": "markdown",
   "metadata": {},
   "source": [
    "~~~\n",
    "$ cat power/reactor_copy.txt\n",
    "~~~\n",
    "~~~\n",
    "# Fission Power Idea\n",
    "\n",
    "\n",
    "The heat from the fission reaction could be used to heat fluids. In\n",
    "the same way that coal power starts with the production heat which\n",
    "turns water to steam and spins a turbine, so too, nuclear fission\n",
    "might heat fluid that pushes a turbine. If somehow there were a way to\n",
    "have many fissions in one small space, the heat from those fissions\n",
    "could be used to heat quite a lot of water.\n",
    "\n",
    "Of course, it would take quite a lot of fissions. \n",
    "\n",
    "Perhaps Professors Rutherford, Curie, or Fermi have some ideas on this\n",
    "topic. \n",
    "~~~"
   ]
  },
  {
   "cell_type": "markdown",
   "metadata": {},
   "source": [
    "To use `cat` and `>` as a text editor where we can type our own thoughts or code, we call `cat` but do not give it any files to operate on. When we do this `cat` accepts input from the text we type into command prompt. To end our text file we need to type **Ctrl-d**."
   ]
  },
  {
   "cell_type": "markdown",
   "metadata": {},
   "source": [
    "~~~\n",
    "$ cat > new_ideas_for_applications.txt\n",
    "This file will be a list for new ideas for new applications.      \n",
    "They are to be listed below:         \n",
    "1. \n",
    "2.\n",
    "3.\n",
    "4.\n",
    "5.\n",
    "~~~"
   ]
  },
  {
   "cell_type": "markdown",
   "metadata": {},
   "source": [
    "Again, we can use `ls` and `cat` to see that the file exists and what it's contents are:"
   ]
  },
  {
   "cell_type": "markdown",
   "metadata": {},
   "source": [
    "~~~\n",
    "$ ls\n",
    "~~~\n",
    "\n",
    "~~~\n",
    "new_ideas_for_applications.txt\tremote_heat.txt\n",
    "power\n",
    "~~~\n",
    "\n",
    "~~~\n",
    "$ cat new_ideas_for_applications.txt\n",
    "~~~\n",
    "\n",
    "~~~\n",
    "This file will be a list for new ideas for new applications.\n",
    "They are to be listed below:\n",
    "1.\n",
    "2.\n",
    "3.\n",
    "4.\n",
    "5.\n",
    "~~~"
   ]
  },
  {
   "cell_type": "markdown",
   "metadata": {},
   "source": [
    "### Exercise: Learn About a Command\n",
    "\n",
    "1. Open a terminal.\n",
    "2. Type `cat` and press **Enter**. The cursor will move to a blank line.\n",
    "3. Try typing some text. Note how every time you press **Enter**, a copy of your text is repeated.\n",
    "4. To exit, type **Ctrl-d**. That is, hold down the Control key and press the lowercase d key at the same time.\n",
    "5. Verify to yourself that your new file was created and that it contains the expected contents."
   ]
  }
 ],
 "metadata": {
  "kernelspec": {
   "display_name": "Python 2",
   "language": "python",
   "name": "python2"
  },
  "language_info": {
   "codemirror_mode": {
    "name": "ipython",
    "version": 2
   },
   "file_extension": ".py",
   "mimetype": "text/x-python",
   "name": "python",
   "nbconvert_exporter": "python",
   "pygments_lexer": "ipython2",
   "version": "2.7.10"
  }
 },
 "nbformat": 4,
 "nbformat_minor": 0
}
