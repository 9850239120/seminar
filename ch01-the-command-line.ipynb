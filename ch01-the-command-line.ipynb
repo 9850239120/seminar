{
 "cells": [
  {
   "cell_type": "markdown",
   "metadata": {},
   "source": [
    "# Chapter 1: Introduction to the Command Line"
   ]
  },
  {
   "cell_type": "markdown",
   "metadata": {},
   "source": [
    "The command line, or *shell*, is a powerful way to interact with the internals of the computer. From the command line you can do many things you normally do with a computer, such as navigate the filesystem and run programs. In addition to these common tasks, the command line allows you to easily automate repetitive tasks and use software programs for science that can only be installed and run via this interface. "
   ]
  },
  {
   "cell_type": "markdown",
   "metadata": {},
   "source": [
    "# Navigating the Shell"
   ]
  },
  {
   "cell_type": "markdown",
   "metadata": {},
   "source": [
    "You can access the shell by opening a terminal emulator (“terminal” for short) on a Linux or Unix computer. On a Windows computer, the Git Bash program is equivalent.  "
   ]
  },
  {
   "cell_type": "markdown",
   "metadata": {},
   "source": [
    "### Exercise: Open a Terminal"
   ]
  },
  {
   "cell_type": "markdown",
   "metadata": {},
   "source": [
    "1. Search your computer’s programs to find one called Terminal. On a Windows computer, remember to use Git Bash as your bash terminal.\n",
    "2. Open an instance of that program. You’re in the shell and you should see something that looks like:"
   ]
  },
  {
   "cell_type": "markdown",
   "metadata": {},
   "source": [
    "`$`"
   ]
  },
  {
   "cell_type": "markdown",
   "metadata": {},
   "source": [
    "The dollar sign (`$`) is called the *prompt*, and it indicates that the *shell* is ready for your input. When typing commands, either from these lessons or from other sources, do not type the prompt, only the commands that follow it."
   ]
  },
  {
   "cell_type": "markdown",
   "metadata": {},
   "source": [
    "# Paths and `pwd`"
   ]
  },
  {
   "cell_type": "markdown",
   "metadata": {},
   "source": [
    "The first command we will learn about is `pwd`, which stands for print working directory. Typing this command into the command line will tell you where you are in your computer's filesystem."
   ]
  },
  {
   "cell_type": "markdown",
   "metadata": {},
   "source": [
    "~~~\n",
    "$ pwd\n",
    "~~~\n",
    "~~~\n",
    "/Users/tiffanytimbers\n",
    "~~~"
   ]
  },
  {
   "cell_type": "markdown",
   "metadata": {},
   "source": [
    "What the shell returns to us from typing `pwd` is the absolute path to where we are in the computers filesystem. Absolute paths begin at the top of the filesystem directory tree, called the root directory. The `/` syntax is used at the beginning of a path to indicate the root or top-level directory. The following `/`'s are used to separate the names of directories in a path."
   ]
  },
  {
   "cell_type": "markdown",
   "metadata": {},
   "source": [
    "Another path we need to be familar with is the relative path which tells us where something is in relation to where we are, intead of from the root of the filesystem. The relative path for the current directory is `.` and the parent directory (*e.g.,* `Users`) is `..`"
   ]
  },
  {
   "cell_type": "markdown",
   "metadata": {},
   "source": [
    "# Changing Directories (cd)"
   ]
  },
  {
   "cell_type": "markdown",
   "metadata": {},
   "source": [
    "*note - to follow along with the code below please download the example filesystem we will be working with from here: https://github.com/physics-codes/seminar/blob/ch01/filespace.zip?raw=true and unzip it and save it to your Computer's Desktop.*"
   ]
  },
  {
   "cell_type": "markdown",
   "metadata": {},
   "source": [
    "We are now going to navigate to the fission directory in Professor Meitner’s home directory. We will use do this using `cd`, which stands for change directory. "
   ]
  },
  {
   "cell_type": "markdown",
   "metadata": {},
   "source": [
    "`$ cd Desktop/filespace/people/l/lisemeitner/fission/`"
   ]
  },
  {
   "cell_type": "markdown",
   "metadata": {},
   "source": [
    "As you can see in this example, executing the cd command with no arguments results in a new prompt. The prompt reflects the new current working directory, `fission`. To double-check that we are where we think we are we can use `pwd`."
   ]
  },
  {
   "cell_type": "markdown",
   "metadata": {},
   "source": [
    "~~~\n",
    "$ pwd\n",
    "~~~\n",
    "~~~\n",
    "/Users/tiffanytimbers/Desktop/filespace/people/l/lisemeitner/fission\n",
    "~~~"
   ]
  },
  {
   "cell_type": "markdown",
   "metadata": {},
   "source": [
    "You can also use `cd` with a relative path (*e.g.,* `cd ..` to navigate up to the parent directory), and we wil demonstrate this and more after we introduce the `ls` command."
   ]
  },
  {
   "cell_type": "markdown",
   "metadata": {},
   "source": [
    "# Listing the Contents (ls)"
   ]
  },
  {
   "cell_type": "markdown",
   "metadata": {},
   "source": [
    "To find out what is inside the a directory we can use `ls`, which means list. Typing `ls` on its own will tell you the contents of the current working directory, in our case the `fission` directory."
   ]
  },
  {
   "cell_type": "markdown",
   "metadata": {},
   "source": [
    "~~~\n",
    "$ ls\n",
    "~~~\n",
    "~~~\n",
    "applications\t\theat-generation.txt\tneutron-production.txt\n",
    "~~~"
   ]
  },
  {
   "cell_type": "markdown",
   "metadata": {},
   "source": [
    "We see that the shell returns three things, two of which end in `.txt` and thus look like files, and one item that has no file extension, and thus is likely a directory. But files are not required to have file extensions, and so we cannot be sure. To be sure, we can use the `-F` option with `ls` to ask the shell to cleary specify which items are files and which are directories."
   ]
  },
  {
   "cell_type": "markdown",
   "metadata": {},
   "source": [
    "~~~\n",
    "$ ls -F\n",
    "~~~\n",
    "~~~\n",
    "applications/\t\theat-generation.txt\tneutron-production.txt\n",
    "~~~"
   ]
  },
  {
   "cell_type": "markdown",
   "metadata": {},
   "source": [
    "Now we see that `applications` ends with a `/`, clearly indicating that it is in fact a directory."
   ]
  },
  {
   "cell_type": "markdown",
   "metadata": {},
   "source": [
    "We can also list the contents of directories other than our current directory by providing an argument to the `ls` command. To list the contents of the applications directory without entering it, we can execute:"
   ]
  },
  {
   "cell_type": "markdown",
   "metadata": {},
   "source": [
    "~~~\n",
    "$ ls applications\n",
    "~~~\n",
    "~~~\n",
    "power\n",
    "~~~"
   ]
  },
  {
   "cell_type": "code",
   "execution_count": null,
   "metadata": {
    "collapsed": true
   },
   "outputs": [],
   "source": []
  }
 ],
 "metadata": {
  "kernelspec": {
   "display_name": "Python 2",
   "language": "python",
   "name": "python2"
  },
  "language_info": {
   "codemirror_mode": {
    "name": "ipython",
    "version": 2
   },
   "file_extension": ".py",
   "mimetype": "text/x-python",
   "name": "python",
   "nbconvert_exporter": "python",
   "pygments_lexer": "ipython2",
   "version": "2.7.10"
  }
 },
 "nbformat": 4,
 "nbformat_minor": 0
}
